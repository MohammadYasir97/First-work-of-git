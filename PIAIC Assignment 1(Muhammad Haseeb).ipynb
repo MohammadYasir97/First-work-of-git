{
 "cells": [
  {
   "cell_type": "markdown",
   "metadata": {},
   "source": [
    "# Q1:"
   ]
  },
  {
   "cell_type": "raw",
   "metadata": {},
   "source": [
    "Store a message in a variable, and then print that\n",
    "message."
   ]
  },
  {
   "cell_type": "code",
   "execution_count": 2,
   "metadata": {},
   "outputs": [],
   "source": [
    "abc=\"My name is Haseeb\""
   ]
  },
  {
   "cell_type": "code",
   "execution_count": 3,
   "metadata": {},
   "outputs": [
    {
     "name": "stdout",
     "output_type": "stream",
     "text": [
      "My name is Haseeb\n"
     ]
    }
   ],
   "source": [
    "print(abc)"
   ]
  },
  {
   "cell_type": "markdown",
   "metadata": {},
   "source": [
    "# Q2:"
   ]
  },
  {
   "cell_type": "raw",
   "metadata": {},
   "source": [
    "Store a message in a variable, and print that message.\n",
    "Then change the value of your variable to a new message, and print the new\n",
    "message."
   ]
  },
  {
   "cell_type": "code",
   "execution_count": 4,
   "metadata": {},
   "outputs": [],
   "source": [
    "name=\"My name is Haseeb\""
   ]
  },
  {
   "cell_type": "code",
   "execution_count": 5,
   "metadata": {},
   "outputs": [
    {
     "name": "stdout",
     "output_type": "stream",
     "text": [
      "My name is Haseeb\n"
     ]
    }
   ],
   "source": [
    "print(name)"
   ]
  },
  {
   "cell_type": "markdown",
   "metadata": {},
   "source": []
  },
  {
   "cell_type": "code",
   "execution_count": 6,
   "metadata": {},
   "outputs": [],
   "source": [
    "name=\"Now my name is Haseeb Lodhi\""
   ]
  },
  {
   "cell_type": "code",
   "execution_count": 7,
   "metadata": {},
   "outputs": [
    {
     "name": "stdout",
     "output_type": "stream",
     "text": [
      "Now my name is Haseeb Lodhi\n"
     ]
    }
   ],
   "source": [
    "print(name)"
   ]
  },
  {
   "cell_type": "markdown",
   "metadata": {},
   "source": [
    "# Q3:"
   ]
  },
  {
   "cell_type": "raw",
   "metadata": {},
   "source": [
    "Store a person’s name in a variable, and print a message to that person. Your message should be simple, such as, “Hello Shahzad,\n",
    "would you like to learn some Python today?”"
   ]
  },
  {
   "cell_type": "code",
   "execution_count": 8,
   "metadata": {},
   "outputs": [],
   "source": [
    "name=\"Haseeb\""
   ]
  },
  {
   "cell_type": "code",
   "execution_count": 9,
   "metadata": {},
   "outputs": [
    {
     "name": "stdout",
     "output_type": "stream",
     "text": [
      "Hello Haseeb, how are you?\n"
     ]
    }
   ],
   "source": [
    "print(f\"Hello {name}, how are you?\")"
   ]
  },
  {
   "cell_type": "markdown",
   "metadata": {},
   "source": [
    "# Q4:"
   ]
  },
  {
   "cell_type": "raw",
   "metadata": {},
   "source": [
    "Store a person’s name in a variable, and then print that person’s name in lowercase, uppercase, and titlecase."
   ]
  },
  {
   "cell_type": "code",
   "execution_count": 10,
   "metadata": {},
   "outputs": [],
   "source": [
    "name=\"hAsEeB\""
   ]
  },
  {
   "cell_type": "code",
   "execution_count": 11,
   "metadata": {},
   "outputs": [
    {
     "name": "stdout",
     "output_type": "stream",
     "text": [
      "haseeb\n"
     ]
    }
   ],
   "source": [
    "print(name.lower())"
   ]
  },
  {
   "cell_type": "code",
   "execution_count": 12,
   "metadata": {},
   "outputs": [
    {
     "name": "stdout",
     "output_type": "stream",
     "text": [
      "HASEEB\n"
     ]
    }
   ],
   "source": [
    "print(name.upper())"
   ]
  },
  {
   "cell_type": "code",
   "execution_count": 13,
   "metadata": {},
   "outputs": [
    {
     "name": "stdout",
     "output_type": "stream",
     "text": [
      "Haseeb\n"
     ]
    }
   ],
   "source": [
    "print(name.title())"
   ]
  },
  {
   "cell_type": "markdown",
   "metadata": {},
   "source": [
    "# Q5:"
   ]
  },
  {
   "cell_type": "raw",
   "metadata": {},
   "source": [
    "Find a quote from a famous person you admire. Print the\n",
    "quote and the name of its author. Your output should look something like the\n",
    "following, including the quotation marks:\n",
    "    \n",
    "    \n",
    "Albert Einstein once said, “A person who never made a\n",
    "mistake never tried anything new.”"
   ]
  },
  {
   "cell_type": "code",
   "execution_count": 17,
   "metadata": {},
   "outputs": [],
   "source": [
    "name=\"Hazrat Ali\"\n",
    "quotation=\"Having the greatness of the creator in your mind would make you realize the insignificance of the creatures in your view\""
   ]
  },
  {
   "cell_type": "code",
   "execution_count": 21,
   "metadata": {},
   "outputs": [
    {
     "name": "stdout",
     "output_type": "stream",
     "text": [
      "Hazrat Ali once said, \"Having the greatness of the creator in your mind would make you realize the insignificance of the creatures in your view.\"\n"
     ]
    }
   ],
   "source": [
    "print(f'{name} once said, \"{quotation}.\"')"
   ]
  },
  {
   "cell_type": "markdown",
   "metadata": {},
   "source": [
    "# Q6:"
   ]
  },
  {
   "cell_type": "raw",
   "metadata": {},
   "source": [
    "Write addition, subtraction, multiplication, and division\n",
    "operations that each result in the number 8. Be sure to enclose your operations\n",
    "in print statements to see the results. You should create four lines that look\n",
    "like this:\n",
    "    \n",
    "    \n",
    "print(5 + 3)"
   ]
  },
  {
   "cell_type": "code",
   "execution_count": 22,
   "metadata": {},
   "outputs": [
    {
     "name": "stdout",
     "output_type": "stream",
     "text": [
      "8\n"
     ]
    }
   ],
   "source": [
    "print(5+3)"
   ]
  },
  {
   "cell_type": "code",
   "execution_count": 23,
   "metadata": {},
   "outputs": [
    {
     "name": "stdout",
     "output_type": "stream",
     "text": [
      "8\n"
     ]
    }
   ],
   "source": [
    "print(10-2)"
   ]
  },
  {
   "cell_type": "code",
   "execution_count": 24,
   "metadata": {},
   "outputs": [
    {
     "name": "stdout",
     "output_type": "stream",
     "text": [
      "8\n"
     ]
    }
   ],
   "source": [
    "print(2*4)"
   ]
  },
  {
   "cell_type": "code",
   "execution_count": 27,
   "metadata": {},
   "outputs": [
    {
     "name": "stdout",
     "output_type": "stream",
     "text": [
      "8\n"
     ]
    }
   ],
   "source": [
    "print(int(16/2))"
   ]
  },
  {
   "cell_type": "markdown",
   "metadata": {},
   "source": [
    "# Q7:"
   ]
  },
  {
   "cell_type": "raw",
   "metadata": {},
   "source": [
    "Create a variable called number1 with the value of 8.\n",
    "Write a print statement to print number1 multiplied by 9."
   ]
  },
  {
   "cell_type": "code",
   "execution_count": 28,
   "metadata": {},
   "outputs": [],
   "source": [
    "number1=8"
   ]
  },
  {
   "cell_type": "code",
   "execution_count": 30,
   "metadata": {},
   "outputs": [
    {
     "name": "stdout",
     "output_type": "stream",
     "text": [
      "72\n"
     ]
    }
   ],
   "source": [
    "print(number1*9)"
   ]
  },
  {
   "cell_type": "markdown",
   "metadata": {},
   "source": [
    "# Q8:"
   ]
  },
  {
   "cell_type": "raw",
   "metadata": {},
   "source": [
    "Store your favorite number in a variable. Then, using\n",
    "that variable, create a message that reveals your favorite number. Print that\n",
    "message."
   ]
  },
  {
   "cell_type": "code",
   "execution_count": 31,
   "metadata": {},
   "outputs": [],
   "source": [
    "num=3"
   ]
  },
  {
   "cell_type": "code",
   "execution_count": 32,
   "metadata": {},
   "outputs": [
    {
     "name": "stdout",
     "output_type": "stream",
     "text": [
      "My favourite number is 3\n"
     ]
    }
   ],
   "source": [
    "print(f\"My favourite number is {num}\")"
   ]
  },
  {
   "cell_type": "markdown",
   "metadata": {},
   "source": [
    "# Q9:"
   ]
  },
  {
   "cell_type": "raw",
   "metadata": {},
   "source": [
    "Store your name and your age in a varibale called my_name and my_age.\n",
    "Use format method to print your name and your age.\n",
    "Your final output sholud be like this:\n",
    "\n",
    "OUTPUT:    \n",
    "My name is Shahzad Ahsan and my age is 21.\n",
    "\n",
    "NOTE:Use both of the format methods which were discuss in the class."
   ]
  },
  {
   "cell_type": "code",
   "execution_count": 33,
   "metadata": {},
   "outputs": [],
   "source": [
    "my_name=\"Muhammad Haseeb\"\n",
    "my_age=19"
   ]
  },
  {
   "cell_type": "code",
   "execution_count": 34,
   "metadata": {},
   "outputs": [
    {
     "name": "stdout",
     "output_type": "stream",
     "text": [
      "My name is Muhammad Haseeb and my age is 19\n"
     ]
    }
   ],
   "source": [
    "print(f\"My name is {my_name} and my age is {my_age}\")"
   ]
  },
  {
   "cell_type": "code",
   "execution_count": 36,
   "metadata": {},
   "outputs": [
    {
     "name": "stdout",
     "output_type": "stream",
     "text": [
      "My name is Muhammad Haseeb and my age is 19\n"
     ]
    }
   ],
   "source": [
    "print(\"My name is {} and my age is {}\".format(my_name,my_age))"
   ]
  },
  {
   "cell_type": "code",
   "execution_count": 37,
   "metadata": {},
   "outputs": [
    {
     "name": "stdout",
     "output_type": "stream",
     "text": [
      "My name is Muhammad Haseeb and my age is 19\n"
     ]
    }
   ],
   "source": [
    "print(\"My name is {1} and my age is {0}\".format(my_age,my_name))"
   ]
  },
  {
   "cell_type": "markdown",
   "metadata": {},
   "source": [
    "# Q10:"
   ]
  },
  {
   "cell_type": "raw",
   "metadata": {},
   "source": [
    "Write a Python program to check if a number is positive, negative or zero."
   ]
  },
  {
   "cell_type": "code",
   "execution_count": 38,
   "metadata": {},
   "outputs": [
    {
     "name": "stdout",
     "output_type": "stream",
     "text": [
      "Enter any Number: -5\n"
     ]
    }
   ],
   "source": [
    "number=int(input(\"Enter any Number: \"))"
   ]
  },
  {
   "cell_type": "code",
   "execution_count": 39,
   "metadata": {},
   "outputs": [
    {
     "name": "stdout",
     "output_type": "stream",
     "text": [
      "Number is Negative\n"
     ]
    }
   ],
   "source": [
    "if(number>0):\n",
    "    print(\"Number is Positive\")\n",
    "elif(number<0):\n",
    "    print(\"Number is Negative\")\n",
    "else:\n",
    "    print(\"Number is Zero\")"
   ]
  },
  {
   "cell_type": "markdown",
   "metadata": {},
   "source": [
    "# Q11:"
   ]
  },
  {
   "cell_type": "raw",
   "metadata": {},
   "source": [
    "Write a Python program which accepts the radius of a circle from the user and compute the\n",
    "area."
   ]
  },
  {
   "cell_type": "code",
   "execution_count": 40,
   "metadata": {},
   "outputs": [
    {
     "name": "stdout",
     "output_type": "stream",
     "text": [
      "Radius of Circle: 2.8\n"
     ]
    }
   ],
   "source": [
    "radius=float(input(\"Radius of Circle: \"))"
   ]
  },
  {
   "cell_type": "code",
   "execution_count": 41,
   "metadata": {},
   "outputs": [],
   "source": [
    "area=3.142*radius**2"
   ]
  },
  {
   "cell_type": "code",
   "execution_count": 42,
   "metadata": {},
   "outputs": [
    {
     "name": "stdout",
     "output_type": "stream",
     "text": [
      "Area of Circle : 24.633279999999996\n"
     ]
    }
   ],
   "source": [
    "print(\"Area of Circle : {}\".format(area))"
   ]
  },
  {
   "cell_type": "markdown",
   "metadata": {},
   "source": [
    "# Q12:"
   ]
  },
  {
   "cell_type": "raw",
   "metadata": {},
   "source": [
    "Write a Python function to check whether a number is completely divisible by another\n",
    "number. Accept two integer values form the user"
   ]
  },
  {
   "cell_type": "code",
   "execution_count": 52,
   "metadata": {},
   "outputs": [
    {
     "name": "stdout",
     "output_type": "stream",
     "text": [
      "First Number: 4\n",
      "Second Number: 5\n",
      "Not divisible\n"
     ]
    }
   ],
   "source": [
    "num1=float(input(\"First Number: \"))\n",
    "num2=float(input(\"Second Number: \"))\n",
    "check=num1%num2\n",
    "if(check):\n",
    "    print(\"Not divisible\")\n",
    "else:\n",
    "    print(\"{} is divisible by {}\".format(num1,num2))"
   ]
  },
  {
   "cell_type": "code",
   "execution_count": 53,
   "metadata": {},
   "outputs": [
    {
     "name": "stdout",
     "output_type": "stream",
     "text": [
      "First Number: 6\n",
      "Second Number: 2\n",
      "6.0 is divisible by 2.0\n"
     ]
    }
   ],
   "source": [
    "num1=float(input(\"First Number: \"))\n",
    "num2=float(input(\"Second Number: \"))\n",
    "check=num1%num2\n",
    "if(check):\n",
    "    print(\"Not divisible\")\n",
    "else:\n",
    "    print(\"{} is divisible by {}\".format(num1,num2))"
   ]
  },
  {
   "cell_type": "markdown",
   "metadata": {},
   "source": [
    "# Q13:"
   ]
  },
  {
   "cell_type": "raw",
   "metadata": {},
   "source": [
    "Write a Python program to find whether a given number (accept from the user) is even or\n",
    "odd, print out an appropriate message to the user."
   ]
  },
  {
   "cell_type": "code",
   "execution_count": 1,
   "metadata": {},
   "outputs": [
    {
     "name": "stdout",
     "output_type": "stream",
     "text": [
      "Enter any Number:5\n",
      "5 is Odd number\n"
     ]
    }
   ],
   "source": [
    "OddEven=int(input(\"Enter any Number:\"))\n",
    "CheckOE=OddEven%2\n",
    "if(CheckOE):\n",
    "    print(f\"{OddEven} is Odd number\")\n",
    "else:\n",
    "    print(\"{} is Even number\".format(Oddeven))"
   ]
  },
  {
   "cell_type": "code",
   "execution_count": 2,
   "metadata": {},
   "outputs": [
    {
     "name": "stdout",
     "output_type": "stream",
     "text": [
      "Enter any Number:6\n",
      "6 is Even number\n"
     ]
    }
   ],
   "source": [
    "OddEven=int(input(\"Enter any Number:\"))\n",
    "CheckOE=OddEven%2\n",
    "if(CheckOE):\n",
    "    print(f\"{OddEven} is Odd number\")\n",
    "else:\n",
    "    print(\"{} is Even number\".format(OddEven))"
   ]
  },
  {
   "cell_type": "markdown",
   "metadata": {},
   "source": [
    "# Q14:"
   ]
  },
  {
   "cell_type": "raw",
   "metadata": {},
   "source": [
    " Print a suitable statement that uses their response. Such as, if they entered “Bangkok”: “I’d love to visit Bangkook more often”."
   ]
  },
  {
   "cell_type": "code",
   "execution_count": 63,
   "metadata": {},
   "outputs": [
    {
     "name": "stdout",
     "output_type": "stream",
     "text": [
      "Enter Place:Bangkok\n",
      "\"I’d love to visit Bangkok more often\"\n"
     ]
    }
   ],
   "source": [
    "place=input(\"Enter Place:\")\n",
    "if(place==\"Bangkok\"):\n",
    "    print('\"I’d love to visit {} more often\"'.format(place));\n",
    "else:\n",
    "    print(f\"{place} is also nice place to visit\")"
   ]
  },
  {
   "cell_type": "code",
   "execution_count": 64,
   "metadata": {},
   "outputs": [
    {
     "name": "stdout",
     "output_type": "stream",
     "text": [
      "Enter Place:Mardan\n",
      "Mardan is also nice place to visit\n"
     ]
    }
   ],
   "source": [
    "place=input(\"Enter Place:\")\n",
    "if(place==\"Bangkok\"):\n",
    "    print('\"I’d love to visit {} more often\"'.format(place));\n",
    "else:\n",
    "    print(f\"{place} is also nice place to visit\")"
   ]
  },
  {
   "cell_type": "markdown",
   "metadata": {},
   "source": [
    "# Q15:"
   ]
  },
  {
   "cell_type": "raw",
   "metadata": {},
   "source": [
    "Write an input line to ask a user whether they want to take the red pill or the blue pill.\n",
    "\n",
    " If they write “red” then print “You stay in wonderland and see how far the rabbit hole goes”.\n",
    " \n",
    " Elif they write “blue” then print “You wake up in your bed and believe what you want to believe.”.\n",
    " \n",
    " Else print “That’s not an option Neo.”"
   ]
  },
  {
   "cell_type": "code",
   "execution_count": 66,
   "metadata": {},
   "outputs": [
    {
     "name": "stdout",
     "output_type": "stream",
     "text": [
      "You want to take the red pill or the blue pill:red\n",
      "You stay in wonderland and see how far the rabbit hole goes\n"
     ]
    }
   ],
   "source": [
    "choice=input(\"You want to take the red pill or the blue pill:\")\n",
    "if(choice==\"red\"):\n",
    "    print(\"You stay in wonderland and see how far the rabbit hole goes\");\n",
    "elif(choice==\"blue\"):\n",
    "    print(\"You wake up in your bed and believe what you want to believe.\")\n",
    "else:\n",
    "    print(\"That’s not an option Neo.\")"
   ]
  },
  {
   "cell_type": "code",
   "execution_count": 67,
   "metadata": {},
   "outputs": [
    {
     "name": "stdout",
     "output_type": "stream",
     "text": [
      "You want to take the red pill or the blue pill:blue\n",
      "You wake up in your bed and believe what you want to believe.\n"
     ]
    }
   ],
   "source": [
    "choice=input(\"You want to take the red pill or the blue pill:\")\n",
    "if(choice==\"red\"):\n",
    "    print(\"You stay in wonderland and see how far the rabbit hole goes\");\n",
    "elif(choice==\"blue\"):\n",
    "    print(\"You wake up in your bed and believe what you want to believe.\")\n",
    "else:\n",
    "    print(\"That’s not an option Neo.\")"
   ]
  },
  {
   "cell_type": "code",
   "execution_count": 68,
   "metadata": {},
   "outputs": [
    {
     "name": "stdout",
     "output_type": "stream",
     "text": [
      "You want to take the red pill or the blue pill:yellow\n",
      "That’s not an option Neo.\n"
     ]
    }
   ],
   "source": [
    "choice=input(\"You want to take the red pill or the blue pill:\")\n",
    "if(choice==\"red\"):\n",
    "    print(\"You stay in wonderland and see how far the rabbit hole goes\");\n",
    "elif(choice==\"blue\"):\n",
    "    print(\"You wake up in your bed and believe what you want to believe.\")\n",
    "else:\n",
    "    print(\"That’s not an option Neo.\")"
   ]
  },
  {
   "cell_type": "code",
   "execution_count": null,
   "metadata": {},
   "outputs": [],
   "source": []
  },
  {
   "cell_type": "code",
   "execution_count": null,
   "metadata": {},
   "outputs": [],
   "source": []
  },
  {
   "cell_type": "code",
   "execution_count": null,
   "metadata": {},
   "outputs": [],
   "source": []
  },
  {
   "cell_type": "code",
   "execution_count": null,
   "metadata": {},
   "outputs": [],
   "source": []
  },
  {
   "cell_type": "code",
   "execution_count": null,
   "metadata": {},
   "outputs": [],
   "source": []
  },
  {
   "cell_type": "code",
   "execution_count": null,
   "metadata": {},
   "outputs": [],
   "source": []
  },
  {
   "cell_type": "code",
   "execution_count": null,
   "metadata": {},
   "outputs": [],
   "source": []
  },
  {
   "cell_type": "code",
   "execution_count": null,
   "metadata": {},
   "outputs": [],
   "source": []
  },
  {
   "cell_type": "code",
   "execution_count": null,
   "metadata": {},
   "outputs": [],
   "source": []
  },
  {
   "cell_type": "code",
   "execution_count": null,
   "metadata": {},
   "outputs": [],
   "source": []
  }
 ],
 "metadata": {
  "kernelspec": {
   "display_name": "Python 3",
   "language": "python",
   "name": "python3"
  },
  "language_info": {
   "codemirror_mode": {
    "name": "ipython",
    "version": 3
   },
   "file_extension": ".py",
   "mimetype": "text/x-python",
   "name": "python",
   "nbconvert_exporter": "python",
   "pygments_lexer": "ipython3",
   "version": "3.7.3"
  }
 },
 "nbformat": 4,
 "nbformat_minor": 2
}
