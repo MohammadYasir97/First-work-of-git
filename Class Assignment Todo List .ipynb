{
 "cells": [
  {
   "cell_type": "code",
   "execution_count": 7,
   "metadata": {},
   "outputs": [
    {
     "name": "stdout",
     "output_type": "stream",
     "text": [
      "Enter your task which you have to doNamaz\n",
      "Your remaining todo list ['study', 'Sehri', 'Reciting Quran e Pak', 'Traveeh', 'Assingments']\n",
      "your completed todo list ['Namaz']\n"
     ]
    }
   ],
   "source": [
    "myTodoList = ['study','Sehri','Namaz','Reciting Quran e Pak','Traveeh','Assingments']\n",
    "finishList = []\n",
    "selectList = input(\"Enter your task which you have to do\")\n",
    "if selectList in myTodoList:\n",
    "    tasks = myTodoList.index(selectList)\n",
    "    myTodoList.pop(tasks)\n",
    "    finishList.append(selectList)\n",
    "    print(\"Your remaining todo list\",myTodoList)\n",
    "    print(\"your completed todo list\",finishList)\n",
    "else:\n",
    "    print(\"Your tasks is not available in todo list\")"
   ]
  },
  {
   "cell_type": "code",
   "execution_count": null,
   "metadata": {},
   "outputs": [],
   "source": []
  }
 ],
 "metadata": {
  "kernelspec": {
   "display_name": "Python 3",
   "language": "python",
   "name": "python3"
  },
  "language_info": {
   "codemirror_mode": {
    "name": "ipython",
    "version": 3
   },
   "file_extension": ".py",
   "mimetype": "text/x-python",
   "name": "python",
   "nbconvert_exporter": "python",
   "pygments_lexer": "ipython3",
   "version": "3.7.3"
  }
 },
 "nbformat": 4,
 "nbformat_minor": 2
}
