{
 "cells": [
  {
   "cell_type": "code",
   "execution_count": 2,
   "metadata": {},
   "outputs": [
    {
     "name": "stdout",
     "output_type": "stream",
     "text": [
      "Enter any taskcall\n",
      "your remaing task is: ['Awake', 'Prayer', 'Recite Quran', 'Aftari', 'Tarvee', 'assignment']\n",
      "completed task: ['call']\n"
     ]
    }
   ],
   "source": [
    "to_do_list=['Awake','Prayer','Recite Quran','call','Aftari','Tarvee','assignment']\n",
    "empty_list=[ ]\n",
    "select_list=input(\"Enter any task\")\n",
    "if select_list in to_do_list:\n",
    "    store_task=to_do_list.index(select_list)\n",
    "    to_do_list.pop(store_task)\n",
    "    empty_list.append(select_list)\n",
    "    print(f\"your remaing task is:\" ,to_do_list)\n",
    "    print(f\"completed task:\", empty_list)\n",
    "else:\n",
    "    print(\"your task is not avaliable!!!!!!\")"
   ]
  },
  {
   "cell_type": "code",
   "execution_count": null,
   "metadata": {},
   "outputs": [],
   "source": []
  },
  {
   "cell_type": "code",
   "execution_count": null,
   "metadata": {},
   "outputs": [],
   "source": []
  }
 ],
 "metadata": {
  "kernelspec": {
   "display_name": "Python 3",
   "language": "python",
   "name": "python3"
  },
  "language_info": {
   "codemirror_mode": {
    "name": "ipython",
    "version": 3
   },
   "file_extension": ".py",
   "mimetype": "text/x-python",
   "name": "python",
   "nbconvert_exporter": "python",
   "pygments_lexer": "ipython3",
   "version": "3.7.3"
  }
 },
 "nbformat": 4,
 "nbformat_minor": 2
}
